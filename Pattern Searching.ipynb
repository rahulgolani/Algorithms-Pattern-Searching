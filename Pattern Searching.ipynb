{
 "cells": [
  {
   "cell_type": "markdown",
   "metadata": {},
   "source": [
    "These algorithms are useful in the case of searching a string within another string."
   ]
  },
  {
   "cell_type": "markdown",
   "metadata": {},
   "source": [
    "Pattern searching is an important problem in computer science. When we do search for a string in notepad/word file or browser or database, pattern searching algorithms are used to show the search results."
   ]
  },
  {
   "cell_type": "markdown",
   "metadata": {},
   "source": [
    "# Naive algorithm for Pattern Searching"
   ]
  },
  {
   "cell_type": "markdown",
   "metadata": {},
   "source": [
    "Slide the pattern over text one by one and check for a match. If a match is found, then slides by 1 again to check for subsequent matches."
   ]
  },
  {
   "cell_type": "code",
   "execution_count": 2,
   "metadata": {},
   "outputs": [
    {
     "name": "stdout",
     "output_type": "stream",
     "text": [
      "The pattern was found at 0 9 13\n"
     ]
    }
   ],
   "source": [
    "def search(a,b):\n",
    "    n=len(a)\n",
    "    m=len(b)\n",
    "    result=[]\n",
    "    for i in range(n-m+1):\n",
    "        j=0\n",
    "        while j<m:\n",
    "            if a[i+j]!=b[j]:\n",
    "                break\n",
    "            j+=1\n",
    "        if j==m:\n",
    "            result.append(i)\n",
    "    print(f\"The pattern was found at {' '.join(map(str,result))}\")\n",
    "\n",
    "\n",
    "if __name__ == '__main__':\n",
    "    a=\"AABAACAADAABAAABAA\"\n",
    "    b=\"AABA\"\n",
    "    search(a,b)\n"
   ]
  },
  {
   "cell_type": "markdown",
   "metadata": {},
   "source": [
    "<pre>\n",
    "<strong>What is the best case?</strong>\n",
    "The best case occurs when the first character of the pattern is not present in text at all.\n",
    "\n",
    "txt[] = \"AABCCAADDEE\"; \n",
    "pat[] = \"FAA\";\n",
    "The number of comparisons in best case is O(n).\n",
    "\n",
    "<strong>What is the worst case ?</strong>\n",
    "The worst case of Naive Pattern Searching occurs in following scenarios.\n",
    "1) When all characters of the text and pattern are same.\n",
    "\n",
    "txt[] = \"AAAAAAAAAAAAAAAAAA\"; \n",
    "pat[] = \"AAAAA\";\n",
    "2) Worst case also occurs when only the last character is different.\n",
    "\n",
    "txt[] = \"AAAAAAAAAAAAAAAAAB\"; \n",
    "pat[] = \"AAAAB\";\n",
    "\n",
    "The number of comparisons in the worst case is O(m*(n-m+1)). Although strings which have repeated characters are not likely to appear in English text, they may well occur in other applications (for example, in binary texts).\n",
    "</pre>"
   ]
  },
  {
   "cell_type": "markdown",
   "metadata": {},
   "source": [
    "# Optimized Naive Algorithm for Pattern Searching"
   ]
  },
  {
   "cell_type": "markdown",
   "metadata": {},
   "source": [
    "In the original Naive String matching algorithm , we always slide the pattern by 1. When all characters of pattern are different, we can slide the pattern by more than 1. Let us see how can we do this. When a mismatch occurs after j matches, we know that the first character of pattern will not match the j matched characters because all characters of pattern are different. So we can always slide the pattern by j without missing any valid shifts."
   ]
  },
  {
   "cell_type": "code",
   "execution_count": 4,
   "metadata": {},
   "outputs": [
    {
     "name": "stdout",
     "output_type": "stream",
     "text": [
      "The pattern was found at 4 12\n"
     ]
    }
   ],
   "source": [
    "def search(text,pattern):\n",
    "    n=len(text)\n",
    "    m=len(pattern)\n",
    "    result=[]\n",
    "    i=0\n",
    "    while i<=n-m:\n",
    "        j=0\n",
    "        while j<m:\n",
    "            if text[i+j]!=pattern[j]:\n",
    "                break\n",
    "            j+=1\n",
    "        if j==m:\n",
    "            result.append(i)\n",
    "            # print(\"pattern found at\",i)\n",
    "            i+=m\n",
    "        elif j==0:\n",
    "            i+=1\n",
    "        else:\n",
    "            i+=j\n",
    "    print(f\"The pattern was found at {' '.join(map(str,result))}\")\n",
    "\n",
    "if __name__ == '__main__':\n",
    "    text=\"ABCEABCDABCEABCD\"\n",
    "    pattern=\"ABCD\"\n",
    "    search(text,pattern)\n"
   ]
  },
  {
   "cell_type": "markdown",
   "metadata": {},
   "source": [
    "# KMP Algorithm for Pattern Searching"
   ]
  },
  {
   "cell_type": "code",
   "execution_count": 5,
   "metadata": {},
   "outputs": [
    {
     "name": "stdout",
     "output_type": "stream",
     "text": [
      "The pattern was found at 0,9,12\n"
     ]
    }
   ],
   "source": [
    "def processPattern(pattern):\n",
    "    prefixArray=[0]*len(pattern)\n",
    "    n=len(pattern)\n",
    "    i=1\n",
    "    j=0\n",
    "    while i<n:\n",
    "        if pattern[i]==pattern[j]:\n",
    "            prefixArray[i]=j+1\n",
    "            i+=1\n",
    "            j+=1\n",
    "        elif j==0:\n",
    "            i+=1\n",
    "        else:\n",
    "            j=prefixArray[j-1]\n",
    "    return prefixArray\n",
    "\n",
    "def search(text,pattern):\n",
    "    prefixArray=processPattern(pattern)\n",
    "    n=len(text)\n",
    "    m=len(pattern)\n",
    "    result=[]\n",
    "    i=0;j=0\n",
    "    while i<n:\n",
    "        if text[i]==pattern[j]:\n",
    "            i+=1\n",
    "            j+=1\n",
    "            if j==m:\n",
    "                # print(\"pattern found at \",i-m)\n",
    "                result.append(i-m)\n",
    "                j=prefixArray[j-1]\n",
    "        elif j==0:\n",
    "            i+=1\n",
    "        else:\n",
    "            j=prefixArray[j-1]\n",
    "    print(f\"The pattern was found at {','.join(map(str,result))}\")\n",
    "\n",
    "if __name__ == '__main__':\n",
    "    # pattern=['a','a','b','a','a','b','a','a','a',]\n",
    "    # processPattern(pattern)\n",
    "    # text=\"abxabcabcaby\"\n",
    "    # pattern=\"abcaby\"\n",
    "    text=\"AABAACAADAABAABAA\"\n",
    "    pattern=\"AABA\"\n",
    "    search(text,pattern)\n"
   ]
  },
  {
   "cell_type": "markdown",
   "metadata": {},
   "source": [
    "# Rabin-Karp Algorithm for Pattern Searching"
   ]
  },
  {
   "cell_type": "markdown",
   "metadata": {},
   "source": [
    "<pre>\n",
    "Like the Naive Algorithm, Rabin-Karp algorithm also slides the pattern one by one. But unlike the Naive algorithm, Rabin Karp algorithm matches the hash value of the pattern with the hash value of current substring of text, and if the hash values match then only it starts matching individual characters. So Rabin Karp algorithm needs to calculate hash values for following strings.\n",
    "\n",
    "\n",
    "\n",
    "1) Pattern itself.\n",
    "2) All the substrings of text of length m.\n",
    "\n",
    "Since we need to efficiently calculate hash values for all the substrings of size m of text, we must have a hash function which has following property.\n",
    "Hash at the next shift must be efficiently computable from the current hash value and next character in text or we can say hash(txt[s+1 .. s+m]) must be efficiently computable from hash(txt[s .. s+m-1]) and txt[s+m] i.e., hash(txt[s+1 .. s+m])= rehash(txt[s+m], hash(txt[s .. s+m-1])) and rehash must be O(1) operation.\n",
    "</pre>"
   ]
  },
  {
   "cell_type": "code",
   "execution_count": 2,
   "metadata": {},
   "outputs": [
    {
     "name": "stdout",
     "output_type": "stream",
     "text": [
      "The pattern was found at 0,9,12\n"
     ]
    }
   ],
   "source": [
    "def search(text,pattern):\n",
    "    n=len(text)\n",
    "    m=len(pattern)\n",
    "    q=101\n",
    "    result=[]\n",
    "    patHash=calculateHash(pattern,0,m,q)\n",
    "    textHash=calculateHash(text,0,m,q)\n",
    "    # print(textHash)\n",
    "    # print(patHash)\n",
    "    for i in range(1,n-m+2):\n",
    "        # print(patHash,textHash)\n",
    "        if patHash==textHash and checkEqual(text,i-1,i+m-1,pattern,0,m):\n",
    "            result.append(i-1)\n",
    "        if i<n-m+1:\n",
    "            textHash=recalculateHash(text,i-1,i+m-1,textHash,q,m)\n",
    "    print(f\"The pattern was found at {','.join(map(str,result))}\")\n",
    "\n",
    "def recalculateHash(text,outgoing,incoming,oldHash,prime,m):\n",
    "    newHash=oldHash-ord(text[outgoing])\n",
    "    newHash=newHash//prime\n",
    "    newHash+=ord(text[incoming])*(prime**(m-1))\n",
    "    return newHash\n",
    "\n",
    "def checkEqual(text,startText,endText,pattern,startPattern,endPattern):\n",
    "    while startText<endText and startPattern<endPattern:\n",
    "        # print(text[startText],pattern[startPattern])\n",
    "        if text[startText]!=pattern[startPattern]:\n",
    "            return False\n",
    "        startText+=1\n",
    "        startPattern+=1\n",
    "    return True\n",
    "\n",
    "def calculateHash(s,start,end,prime):\n",
    "    hash=0\n",
    "    while start<end:\n",
    "        hash+=(ord(s[start]))*(prime**start)\n",
    "        start+=1\n",
    "    return hash\n",
    "\n",
    "if __name__ == '__main__':\n",
    "    text=\"AABAACAADAABAABA\"\n",
    "    pattern=\"AABA\"\n",
    "    # text=\"abedabc\"\n",
    "    # pattern=\"abc\"\n",
    "    search(text,pattern)\n"
   ]
  },
  {
   "cell_type": "markdown",
   "metadata": {},
   "source": [
    "Time Complexity O(mn) if the hash function is bad, so it will start matching for all the hashes"
   ]
  },
  {
   "cell_type": "markdown",
   "metadata": {},
   "source": [
    "# Boyer Moore Algorithm"
   ]
  },
  {
   "cell_type": "markdown",
   "metadata": {},
   "source": [
    "Boyer Moore algorithm also preprocesses the pattern.\n",
    "Boyer Moore is a combination of following two approaches.\n",
    "\n",
    "1) Bad Character Heuristic\n",
    "\n",
    "2) Good Suffix Heuristic"
   ]
  },
  {
   "cell_type": "markdown",
   "metadata": {},
   "source": [
    "The Boyer Moore algorithm does preprocessing for the same reason. It processes the pattern and creates different arrays for both heuristics. At every step, it slides the pattern by the max of the slides suggested by the two heuristics. So it uses best of the two heuristics at every step.\n",
    "Unlike the previous pattern searching algorithms, Boyer Moore algorithm starts matching from the last character of the pattern."
   ]
  },
  {
   "cell_type": "markdown",
   "metadata": {},
   "source": [
    "<strong>Bad Character Heuristic</strong>"
   ]
  },
  {
   "cell_type": "markdown",
   "metadata": {},
   "source": [
    "The idea of bad character heuristic is simple. The character of the text which doesn’t match with the current character of the pattern is called the Bad Character. Upon mismatch, we shift the pattern until –\n",
    "\n",
    "1) The mismatch becomes a match\n",
    "\n",
    "2) Pattern P move past the mismatched character."
   ]
  },
  {
   "cell_type": "markdown",
   "metadata": {},
   "source": [
    "<strong>Case 1 – Mismatch become match</strong>"
   ]
  },
  {
   "cell_type": "markdown",
   "metadata": {},
   "source": [
    "We will lookup the position of last occurrence of mismatching character in pattern and if mismatching character exist in pattern then we’ll shift the pattern such that it get aligned to the mismatching character in text T."
   ]
  },
  {
   "cell_type": "markdown",
   "metadata": {},
   "source": [
    "<strong>Case 2 – Pattern move past the mismatch character</strong>"
   ]
  },
  {
   "cell_type": "markdown",
   "metadata": {},
   "source": [
    "We’ll lookup the position of last occurrence of mismatching character in pattern and if character does not exist we will shift pattern past the mismatching character"
   ]
  },
  {
   "cell_type": "markdown",
   "metadata": {},
   "source": [
    "In the following implementation, we preprocess the pattern and store the last occurrence of every possible character in an array of size equal to alphabet size. If the character is not present at all, then it may result in a shift by m (length of pattern). Therefore, the bad character heuristic takes O(n/m) time in the best case."
   ]
  },
  {
   "cell_type": "code",
   "execution_count": 3,
   "metadata": {},
   "outputs": [
    {
     "name": "stdout",
     "output_type": "stream",
     "text": [
      "The pattern was found at 0,9,12\n"
     ]
    }
   ],
   "source": [
    "def computeBadHeuristic(pattern,m):\n",
    "    badChar=[-1]*256\n",
    "    for i in range(m):\n",
    "        badChar[ord(pattern[i])]=i  #last occurence\n",
    "    return badChar\n",
    "\n",
    "def search(text,pattern):\n",
    "    n=len(text)\n",
    "    m=len(pattern)\n",
    "    badChar=computeBadHeuristic(pattern,m)\n",
    "    i=0\n",
    "    result=[]\n",
    "    while i<=n-m:\n",
    "        j=m-1 #checking from behind\n",
    "        while j>=0 and text[i+j]==pattern[j]:\n",
    "            j-=1\n",
    "        if j==-1:  #if pattern matches\n",
    "            result.append(i)\n",
    "            if i+m<n:\n",
    "                i+=m-badChar[ord(text[i+m])] #number of shifts\n",
    "            else:\n",
    "                i+=1\n",
    "        else:\n",
    "            i+=max(1,j-badChar[ord(text[i+j])]) #1 because we may get a -ve shift if the last occurence is in the right\n",
    "    print(f\"The pattern was found at {','.join(map(str,result))}\")\n",
    "\n",
    "if __name__ == '__main__':\n",
    "    text=\"AABAACAADAABAABA\"\n",
    "    pattern=\"AABA\"\n",
    "    # text=\"ABAAABCD\"\n",
    "    # pattern=\"ABC\"\n",
    "    search(text,pattern)\n"
   ]
  },
  {
   "cell_type": "markdown",
   "metadata": {},
   "source": [
    "The Bad Character Heuristic may take O(mn) time in worst case. The worst case occurs when all characters of the text and pattern are same. For example, txt[] = “AAAAAAAAAAAAAAAAAA” and pat[] = “AAAAA”"
   ]
  },
  {
   "cell_type": "code",
   "execution_count": null,
   "metadata": {},
   "outputs": [],
   "source": []
  }
 ],
 "metadata": {
  "kernelspec": {
   "display_name": "Python 3",
   "language": "python",
   "name": "python3"
  },
  "language_info": {
   "codemirror_mode": {
    "name": "ipython",
    "version": 3
   },
   "file_extension": ".py",
   "mimetype": "text/x-python",
   "name": "python",
   "nbconvert_exporter": "python",
   "pygments_lexer": "ipython3",
   "version": "3.7.6"
  }
 },
 "nbformat": 4,
 "nbformat_minor": 4
}
